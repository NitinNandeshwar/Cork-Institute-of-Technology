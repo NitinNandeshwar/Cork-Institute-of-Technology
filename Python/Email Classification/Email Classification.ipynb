{
 "cells": [
  {
   "cell_type": "markdown",
   "metadata": {
    "colab_type": "text",
    "id": "Xxq8XzrVpdpA"
   },
   "source": [
    "# Assignment 1\n",
    "## Nitin Nandeshwar\n",
    "## R00183235\n",
    "## 04/04/2020"
   ]
  },
  {
   "cell_type": "code",
   "execution_count": 104,
   "metadata": {
    "colab": {
     "base_uri": "https://localhost:8080/",
     "height": 34
    },
    "colab_type": "code",
    "id": "Tc_xwWzckJkh",
    "outputId": "5762b2dc-5703-48c7-b987-760fbaabd382"
   },
   "outputs": [
    {
     "name": "stdout",
     "output_type": "stream",
     "text": [
      "Done\n"
     ]
    }
   ],
   "source": [
    "from zipfile import ZipFile\n",
    "file_name='enron1.zip'\n",
    "\n",
    "with ZipFile(file_name,'r') as unfold:\n",
    "  unfold.extractall()\n",
    "  print('Done')"
   ]
  },
  {
   "cell_type": "markdown",
   "metadata": {
    "colab_type": "text",
    "id": "fUMlbrB3jW8W"
   },
   "source": [
    "- Explanation: Using zipfile we can unzip all the folders in zip folder "
   ]
  },
  {
   "cell_type": "markdown",
   "metadata": {
    "colab_type": "text",
    "id": "IuUR6Qzfp20N"
   },
   "source": [
    "## List of Libraries "
   ]
  },
  {
   "cell_type": "code",
   "execution_count": 0,
   "metadata": {
    "colab": {},
    "colab_type": "code",
    "id": "eLVDLGGapdLW"
   },
   "outputs": [],
   "source": [
    "# List of Libraries\n",
    "import numpy as np\n",
    "import pandas as pd\n",
    "import seaborn as sns\n",
    "import re\n",
    "import nltk \n",
    "from nltk.corpus import stopwords\n",
    "import string\n",
    "from sklearn.datasets import load_files\n",
    "from collections import Counter\n",
    "from sklearn.feature_extraction.text import CountVectorizer\n",
    "from sklearn.model_selection import train_test_split\n",
    "import matplotlib.pyplot as plt\n",
    "%matplotlib inline"
   ]
  },
  {
   "cell_type": "code",
   "execution_count": 106,
   "metadata": {
    "colab": {
     "base_uri": "https://localhost:8080/",
     "height": 204
    },
    "colab_type": "code",
    "id": "E_klKBDMosTT",
    "outputId": "1f578494-4d7f-4a19-e2dd-2d7c31b57dfb"
   },
   "outputs": [
    {
     "data": {
      "text/html": [
       "<div>\n",
       "<style scoped>\n",
       "    .dataframe tbody tr th:only-of-type {\n",
       "        vertical-align: middle;\n",
       "    }\n",
       "\n",
       "    .dataframe tbody tr th {\n",
       "        vertical-align: top;\n",
       "    }\n",
       "\n",
       "    .dataframe thead th {\n",
       "        text-align: right;\n",
       "    }\n",
       "</style>\n",
       "<table border=\"1\" class=\"dataframe\">\n",
       "  <thead>\n",
       "    <tr style=\"text-align: right;\">\n",
       "      <th></th>\n",
       "      <th>texts</th>\n",
       "      <th>spam</th>\n",
       "    </tr>\n",
       "  </thead>\n",
       "  <tbody>\n",
       "    <tr>\n",
       "      <th>0</th>\n",
       "      <td>b'Subject: nesa / hea \\' s 24 th annual meetin...</td>\n",
       "      <td>0</td>\n",
       "    </tr>\n",
       "    <tr>\n",
       "      <th>1</th>\n",
       "      <td>b'Subject: meter 1431 - nov 1999\\r\\ndaren -\\r\\...</td>\n",
       "      <td>0</td>\n",
       "    </tr>\n",
       "    <tr>\n",
       "      <th>2</th>\n",
       "      <td>b\"Subject: investor here .\\r\\nfrom : mr . rich...</td>\n",
       "      <td>1</td>\n",
       "    </tr>\n",
       "    <tr>\n",
       "      <th>3</th>\n",
       "      <td>b\"Subject: hi paliourg all available meds . av...</td>\n",
       "      <td>1</td>\n",
       "    </tr>\n",
       "    <tr>\n",
       "      <th>4</th>\n",
       "      <td>b'Subject: january nominations at shell deer p...</td>\n",
       "      <td>0</td>\n",
       "    </tr>\n",
       "  </tbody>\n",
       "</table>\n",
       "</div>"
      ],
      "text/plain": [
       "                                               texts  spam\n",
       "0  b'Subject: nesa / hea \\' s 24 th annual meetin...     0\n",
       "1  b'Subject: meter 1431 - nov 1999\\r\\ndaren -\\r\\...     0\n",
       "2  b\"Subject: investor here .\\r\\nfrom : mr . rich...     1\n",
       "3  b\"Subject: hi paliourg all available meds . av...     1\n",
       "4  b'Subject: january nominations at shell deer p...     0"
      ]
     },
     "execution_count": 106,
     "metadata": {
      "tags": []
     },
     "output_type": "execute_result"
    }
   ],
   "source": [
    "# Loading of data\n",
    "emails = load_files(\"./enron1\")\n",
    "pd_form = {\"texts\": emails.data, \"spam\": emails.target}\n",
    "df=pd.DataFrame(pd_form)\n",
    "df.head(5)"
   ]
  },
  {
   "cell_type": "code",
   "execution_count": 107,
   "metadata": {
    "colab": {
     "base_uri": "https://localhost:8080/",
     "height": 34
    },
    "colab_type": "code",
    "id": "Qk68yIPjtFgR",
    "outputId": "c85455bc-7611-492a-e533-2123c7e0b894"
   },
   "outputs": [
    {
     "data": {
      "text/plain": [
       "(5172, 2)"
      ]
     },
     "execution_count": 107,
     "metadata": {
      "tags": []
     },
     "output_type": "execute_result"
    }
   ],
   "source": [
    "# Print the shape (Get the number of rows and columns)\n",
    "df.shape"
   ]
  },
  {
   "cell_type": "code",
   "execution_count": 108,
   "metadata": {
    "colab": {
     "base_uri": "https://localhost:8080/",
     "height": 34
    },
    "colab_type": "code",
    "id": "FalxPrnVtFkP",
    "outputId": "a24defb3-b63e-4342-ab99-5565116fb622"
   },
   "outputs": [
    {
     "data": {
      "text/plain": [
       "Index(['texts', 'spam'], dtype='object')"
      ]
     },
     "execution_count": 108,
     "metadata": {
      "tags": []
     },
     "output_type": "execute_result"
    }
   ],
   "source": [
    "# Get the columns names\n",
    "df.columns"
   ]
  },
  {
   "cell_type": "code",
   "execution_count": 0,
   "metadata": {
    "colab": {},
    "colab_type": "code",
    "id": "9-Ha28lGuQOc"
   },
   "outputs": [],
   "source": [
    "# Data Cleaning\n",
    "X_text = []\n",
    "\n",
    "for email in range(0, len(df)):\n",
    "    text=df.texts[email]\n",
    "\n",
    "    # Remove special characters\n",
    "    text = re.sub(r'\\\\r\\\\n', ' ', str(text))\n",
    "    text = re.sub(r'\\W', ' ', text)\n",
    "    \n",
    "    # Remove single characters from a letter\n",
    "    text = re.sub(r'\\s+[a-zA-Z]\\s+', ' ', text)\n",
    "    text= re.sub(r'\\^[a-zA-Z]\\s+', ' ', text) \n",
    "\n",
    "    # Replaces multiple spaces with a single space\n",
    "    text = re.sub(r'\\s+', ' ', text, flags=re.I)\n",
    "\n",
    "    # Remove the 'b' that appears at the beginning\n",
    "    text = re.sub(r'^b\\s+', '', text)\n",
    "\n",
    "    # Remove the digits from the emails\n",
    "    text = re.sub(\"\\d+\", \"\", text)\n",
    "\n",
    "    # Convert to lowercase\n",
    "    text = text.lower()\n",
    "\n",
    "    # Remove the word subject from email\n",
    "    text = re.sub(\"subject\", \"\", text)\n",
    "\n",
    "    X_text.append(text)"
   ]
  },
  {
   "cell_type": "code",
   "execution_count": 110,
   "metadata": {
    "colab": {
     "base_uri": "https://localhost:8080/",
     "height": 105
    },
    "colab_type": "code",
    "id": "eCNUYFP_tSEY",
    "outputId": "405752cd-3949-4e7b-d9d1-573dd07cb827"
   },
   "outputs": [
    {
     "data": {
      "text/plain": [
       "[' nesa hea  th annual meeting saddle up for nesa hea  th annual meeting deep in the heart of texas september    hyatt regency hill country resort san antonio texas the annual meeting planning committee has put together an outstanding program for your review it is attached below in an adobe acrobat pdf file if you have problems with the attachment please call nesa hea headquarters at    and we ll mail or fax copy out immediately general session topics include will tomorrow restructured electric infrastructure support tomorrow economy power deregulation panel developer ipp utility transmission power marketer government retail power demand the state of the energy industry new political administration impact on energy policy and environment networking opportunities opening reception sunday september  golf tournament tours of area attractions monday september  the hyatt regency hill country resort has limited block of rooms available for nesa hea members and guests be sure to check page  for lodging information and make your reservation as soon as possible we hope that you take this opportunity to meet with your colleagues and customers in this relaxing yet professional environment to exchange ideas on matters of importance covering broad spectrum of s the annual meeting agenda includes timely issues presented by knowledgeable industry leaders who will discuss formidable and thought provoking issues affecting the energy industry today please take moment to review the attached brochure nesa hea encourages and appreciates you taking the time to pass the brochure on to industry personnel who would benefit from participating at this conference nesa hea  th annual meeting educating the energy professional to unsubscribe from the nesa hea member email blast list please respond to this email with the word unsubscribe typed into the  field this will preclude you from receiving any email blasts in the future but hard copies of the material will be sent to your attention  _ nesa  annlmtgjam pdf ',\n",
       " ' meter  nov  daren could you please resolve this issue for howard will be out of the office the next two days when this is done please let george know thanks aimee forwarded by aimee lannou hou ect on      pm howard camp      pm to aimee lannou hou ect ect cc daren farmer hou ect ect stacey neuweiler hou ect ect mary smith hou ect ect  meter  nov  aimee sitara deal  for meter  has expired on oct   settlements is unable to draft an invoice for this deal this deal either needs to be extended or new deal needs to be set up please let me know when this is resolved we need it resolved by friday dec  hc ',\n",
       " ' investor here from mr richard mayer dear friend am mr richard mayer the accountant general of nedbank of south africa request your co operation in the transfer of money amounting to s  million on september  an american pilot mr roy kenob an american ational made fixed deposit of s  million in ned bank of south africa on maturity sent routine notification to his forwarding address but gotno reply after month sent reminder and finally his employers wrote to inform us that mr kenob died in plane crash that he died without making will while our attempt to trace his next of kin through american embassy proved fruitless when he was making deposition in my bank he did not declare his next of kin in his deposit application form when reminded him he said he wished it so in the conservative manner of our bank did not turn down his request rather honor it considering his high net worth the point is that his employer are not aware of his deposit with us therefore am the only person who know about mr roy deposit of s     which is now lying in dormant account portfolio the whole account relating to mr kenob deposit is also with me am looking forward for foreigner who will stand in as the next of kin to mr roy have worked out modalities of achieving my aim by appointing you as the next of kin to mr roy as well as transfer the s     abroad for us to share will use an attorney who will represent you as the beneficiary to execute series written will and attestament of late mr roy kenob in support of your claim including certificate of origin of the money letter of probate which empowers you as the sole trustee executor to the estate of mr roy kenob please note that you will not be required to sign any transfer document as the appointed attorney will do all that if you agree to act as the next of kin beneficiary to enable me transfer convert the money to our own benefit use will give you  of usd   will be for me while  will be to take care of all unforeseen expenses as we may incure in the course of concluding this transaction am urgently waiting for your positive reply on the address below regards mr richard mayer richardmayer walla com ',\n",
       " ' hi paliourg all available meds available all binaural cvonyy wakerobin hi paliourg we offer the widest range of drugs available and provide access to complimentary online medical consultations valium  mg  pills    pills    pills   xanax  mg  pills    pills    pills    pills   vicodin hydrocodone apapl  mg  mg  pills    pills    pills    pills    pills   viagra  mg  pills    pills    pills    pills   viagra  mg  pills    pills    pills    pills   carisoprodol soma  pills    pills   phentermine  mg  pills    pills   adipex   mg  pills    pills    pills   tramadol  mg  pills    pills    pills   ambien  mg  pills    pills   butalbital apap caffeine fioricet  pills    pills    pills   also available men health super viagra cialis viagra weight loss adipex ionamin meridia phentermine tenuate xenical muscle relaxants cyclobenzaprine flexeril soma skelaxin zanaflex pain relief celebrex esgic plus flextra tramadol fioricet ultram ativan vicodin vioxx zebutal men health cialis levitra propecia viagra women health diflucan ortho evra patch ortho tri cyclen triphasil vaniqa sexual health acyclovir famvir levitra valtrex viagra anti depressants bupropion hcl wellbutrin sr valium xanax prozac paxil anxiety buspar quit smoking zyban no embarassment prescriptions are always confidential all we can give all you can get now we deliver worldwide please copy and paste this link into your browser wonderfulmeds biz best regards jerome larsen ']"
      ]
     },
     "execution_count": 110,
     "metadata": {
      "tags": []
     },
     "output_type": "execute_result"
    }
   ],
   "source": [
    "# Print the first 5 text of emails\n",
    "X_text[0:4]"
   ]
  },
  {
   "cell_type": "code",
   "execution_count": 0,
   "metadata": {
    "colab": {},
    "colab_type": "code",
    "id": "M8ci6u_SuPgf"
   },
   "outputs": [],
   "source": [
    "df['texts']=X_text"
   ]
  },
  {
   "cell_type": "code",
   "execution_count": 112,
   "metadata": {
    "colab": {
     "base_uri": "https://localhost:8080/",
     "height": 34
    },
    "colab_type": "code",
    "id": "7ZvXijqXtSyC",
    "outputId": "70c6b747-ada1-4f42-e39c-4f7d133e9126"
   },
   "outputs": [
    {
     "data": {
      "text/plain": [
       "(5172, 2)"
      ]
     },
     "execution_count": 112,
     "metadata": {
      "tags": []
     },
     "output_type": "execute_result"
    }
   ],
   "source": [
    "# Print the shape (Get the number of rows and columns)\n",
    "df.shape"
   ]
  },
  {
   "cell_type": "code",
   "execution_count": 0,
   "metadata": {
    "colab": {},
    "colab_type": "code",
    "id": "GUCm_SgEqm8_"
   },
   "outputs": [],
   "source": [
    "# Check for duplicates and remove them\n",
    "df.drop_duplicates(inplace=True)"
   ]
  },
  {
   "cell_type": "code",
   "execution_count": 114,
   "metadata": {
    "colab": {
     "base_uri": "https://localhost:8080/",
     "height": 34
    },
    "colab_type": "code",
    "id": "bxWj4pVxqnAg",
    "outputId": "e9ac93b6-23c7-4109-e91e-96d60d134247"
   },
   "outputs": [
    {
     "data": {
      "text/plain": [
       "(4647, 2)"
      ]
     },
     "execution_count": 114,
     "metadata": {
      "tags": []
     },
     "output_type": "execute_result"
    }
   ],
   "source": [
    "# Print the shape after removing duplicates\n",
    "df.shape"
   ]
  },
  {
   "cell_type": "code",
   "execution_count": 115,
   "metadata": {
    "colab": {
     "base_uri": "https://localhost:8080/",
     "height": 68
    },
    "colab_type": "code",
    "id": "CQePlH4VqnDy",
    "outputId": "61ffcc77-6011-43e9-8958-085ba55b7390"
   },
   "outputs": [
    {
     "data": {
      "text/plain": [
       "texts    0\n",
       "spam     0\n",
       "dtype: int64"
      ]
     },
     "execution_count": 115,
     "metadata": {
      "tags": []
     },
     "output_type": "execute_result"
    }
   ],
   "source": [
    "# show the number of missing (NAN.Nan,na) data for each column\n",
    "df.isnull().sum()"
   ]
  },
  {
   "cell_type": "code",
   "execution_count": 0,
   "metadata": {
    "colab": {},
    "colab_type": "code",
    "id": "3W8htGIjqncl"
   },
   "outputs": [],
   "source": [
    "# Split the data into 70% training and 30% testing\n",
    "X_train,X_test,y_train,y_test=train_test_split(df['texts'],df['spam'],test_size=0.30,random_state=0)"
   ]
  },
  {
   "cell_type": "markdown",
   "metadata": {
    "colab_type": "text",
    "id": "KQNAZknmi1AW"
   },
   "source": [
    "- Explanation: Setting the test_size as 0.30 ,we can split the dataset into 70% Train set and 30% Test set "
   ]
  },
  {
   "cell_type": "markdown",
   "metadata": {
    "colab_type": "text",
    "id": "UoJJaEhz1CJx"
   },
   "source": [
    "## Train Set"
   ]
  },
  {
   "cell_type": "code",
   "execution_count": 117,
   "metadata": {
    "colab": {
     "base_uri": "https://localhost:8080/",
     "height": 281
    },
    "colab_type": "code",
    "id": "HB_CvTKs1LAK",
    "outputId": "9b7ae662-e33c-4fbf-9187-be084373321e"
   },
   "outputs": [
    {
     "data": {
      "image/png": "[encoded data removed]",
      "text/plain": [
       "<Figure size 432x288 with 1 Axes>"
      ]
     },
     "metadata": {
      "tags": []
     },
     "output_type": "display_data"
    }
   ],
   "source": [
    "# Train Data verification - target distribution (balanced classes)\n",
    "# Train Data target variable Barplot\n",
    "plt.bar(Counter(y_train).keys(), Counter(y_train).values(),tick_label =('spam', 'ham'))\n",
    "plt.title(\"Bar Plot for Train Target variable \")\n",
    "plt.show;"
   ]
  },
  {
   "cell_type": "code",
   "execution_count": 118,
   "metadata": {
    "colab": {
     "base_uri": "https://localhost:8080/",
     "height": 373
    },
    "colab_type": "code",
    "id": "ZnrWc5i01RAV",
    "outputId": "de4e7a00-1b8d-4505-c9ce-f29732a1d351"
   },
   "outputs": [
    {
     "data": {
      "image/png": "[encoded data removed]",
      "text/plain": [
       "<Figure size 432x432 with 1 Axes>"
      ]
     },
     "metadata": {
      "tags": []
     },
     "output_type": "display_data"
    }
   ],
   "source": [
    "# Train Data target variable Pie chart\n",
    "y_train.value_counts().plot(kind = 'pie', explode = [0, 0.1], figsize = (6, 6), autopct = '%1.1f%%', shadow = True)\n",
    "plt.title(\"Pie Chart of Train Target variable \")\n",
    "plt.ylabel(\"Spam vs Ham\")\n",
    "plt.legend([\"Ham\", \"Spam\"])\n",
    "plt.show()"
   ]
  },
  {
   "cell_type": "markdown",
   "metadata": {
    "colab_type": "text",
    "id": "ipf1qJz71sv0"
   },
   "source": [
    "\n",
    "## Test Set\n",
    "\n"
   ]
  },
  {
   "cell_type": "code",
   "execution_count": 119,
   "metadata": {
    "colab": {
     "base_uri": "https://localhost:8080/",
     "height": 281
    },
    "colab_type": "code",
    "id": "I3xRLpUGzgTz",
    "outputId": "a059dfda-3e9c-4b9f-eae4-1dbaaba05dfe"
   },
   "outputs": [
    {
     "data": {
      "image/png": "[encoded data removed]",
      "text/plain": [
       "<Figure size 432x288 with 1 Axes>"
      ]
     },
     "metadata": {
      "tags": []
     },
     "output_type": "display_data"
    }
   ],
   "source": [
    "# Test Data verification - target distribution (balanced classes)\n",
    "# Test Data target variable Barplot\n",
    "plt.bar(Counter(y_test).keys(), Counter(y_test).values(),tick_label =('spam', 'ham'))\n",
    "plt.title(\"Bar Plot for Test Target variable \")\n",
    "plt.show;"
   ]
  },
  {
   "cell_type": "code",
   "execution_count": 120,
   "metadata": {
    "colab": {
     "base_uri": "https://localhost:8080/",
     "height": 373
    },
    "colab_type": "code",
    "id": "V1olulUHzgXY",
    "outputId": "26d944de-e8af-4a7f-fef7-733b0484c9bf"
   },
   "outputs": [
    {
     "data": {
      "image/png": "[encoded data removed]",
      "text/plain": [
       "<Figure size 432x432 with 1 Axes>"
      ]
     },
     "metadata": {
      "tags": []
     },
     "output_type": "display_data"
    }
   ],
   "source": [
    "# Test Data target variable Pie Chart\n",
    "y_test.value_counts().plot(kind = 'pie', explode = [0, 0.1], figsize = (6, 6), autopct = '%1.1f%%', shadow = True)\n",
    "plt.title(\"Pie Chart of Test Target variable \")\n",
    "plt.ylabel(\"Spam vs Ham\")\n",
    "plt.legend([\"Ham\", \"Spam\"])\n",
    "plt.show()"
   ]
  },
  {
   "cell_type": "markdown",
   "metadata": {
    "colab_type": "text",
    "id": "DjrMGtQFjP1G"
   },
   "source": [
    "- Explanation:\n",
    "As we can see that our distribution of train set and test set is similar as the ratio of spam and non-spam is 70:30 for both the set.So our sampled dataset is balanced."
   ]
  },
  {
   "cell_type": "code",
   "execution_count": 121,
   "metadata": {
    "colab": {
     "base_uri": "https://localhost:8080/",
     "height": 68
    },
    "colab_type": "code",
    "id": "hxZ3zlZ7qnG9",
    "outputId": "d59f819d-75de-4ec8-ae6a-6baee9ddf4f2"
   },
   "outputs": [
    {
     "name": "stdout",
     "output_type": "stream",
     "text": [
      "[nltk_data] Downloading package stopwords to /root/nltk_data...\n",
      "[nltk_data]   Package stopwords is already up-to-date!\n"
     ]
    },
    {
     "data": {
      "text/plain": [
       "True"
      ]
     },
     "execution_count": 121,
     "metadata": {
      "tags": []
     },
     "output_type": "execute_result"
    }
   ],
   "source": [
    "# download the stopwords package\n",
    "nltk.download('stopwords')\n"
   ]
  },
  {
   "cell_type": "code",
   "execution_count": 0,
   "metadata": {
    "colab": {},
    "colab_type": "code",
    "id": "fLM-HZkLqnSm"
   },
   "outputs": [],
   "source": [
    "# Function for processing the email text\n",
    "from nltk.stem import SnowballStemmer\n",
    "stemmer = SnowballStemmer(\"english\")\n",
    "\n",
    "def process_text(text):\n",
    "  \n",
    "  # Removing punctuation\n",
    "  nopunc=[char for char in text if char not in string.punctuation]\n",
    "  nopunc=''.join(nopunc)\n",
    "  \n",
    "  # Removing stopwords\n",
    "  clean_words = [stemmer.stem(word) for word in nopunc.split() if word.lower() not in stopwords.words(\"english\")]\n",
    "         \n",
    "  # Returning the clean text\n",
    "  return clean_words\n",
    " "
   ]
  },
  {
   "cell_type": "code",
   "execution_count": 123,
   "metadata": {
    "colab": {
     "base_uri": "https://localhost:8080/",
     "height": 34
    },
    "colab_type": "code",
    "id": "4KVjrw3sOK2A",
    "outputId": "ee192a0c-b1e6-4caf-cb29-4dc7ed802346"
   },
   "outputs": [
    {
     "name": "stdout",
     "output_type": "stream",
     "text": [
      "(4647, 37964)\n"
     ]
    }
   ],
   "source": [
    "# convert a collection of a text to a matrix of tokens\n",
    "from sklearn.feature_extraction.text import TfidfVectorizer\n",
    "X_train_features = TfidfVectorizer(encoding = \"latin-1\", strip_accents = \"unicode\", stop_words = \"english\",analyzer=process_text).fit_transform(df['texts'])\n",
    "print(X_train_features.shape)"
   ]
  },
  {
   "cell_type": "code",
   "execution_count": 124,
   "metadata": {
    "colab": {
     "base_uri": "https://localhost:8080/",
     "height": 34
    },
    "colab_type": "code",
    "id": "cX3pKiYIqnYw",
    "outputId": "801c7cf8-bb98-4ecd-8cec-1b6d7301c400"
   },
   "outputs": [
    {
     "data": {
      "text/plain": [
       "(4647, 37964)"
      ]
     },
     "execution_count": 124,
     "metadata": {
      "tags": []
     },
     "output_type": "execute_result"
    }
   ],
   "source": [
    "# Get the shape of message_bow\n",
    "X_train_features.shape"
   ]
  },
  {
   "cell_type": "code",
   "execution_count": 0,
   "metadata": {
    "colab": {},
    "colab_type": "code",
    "id": "3Pc4Fonpzgge"
   },
   "outputs": [],
   "source": [
    "# Split Train Data into spam and Ham\n",
    "data_ham  = X_train[y_train == 0].copy()\n",
    "data_spam = X_train[y_train == 1].copy()\n"
   ]
  },
  {
   "cell_type": "code",
   "execution_count": 0,
   "metadata": {
    "colab": {},
    "colab_type": "code",
    "id": "TR0EbcGd1EFG"
   },
   "outputs": [],
   "source": [
    "# Data cleaning on Split Train data\n",
    "data_ham = data_ham.apply(process_text)\n",
    "words_data_ham = data_ham.tolist()\n",
    "data_spam=data_spam.apply(process_text)\n",
    "words_data_spam=data_spam.tolist()"
   ]
  },
  {
   "cell_type": "code",
   "execution_count": 0,
   "metadata": {
    "colab": {},
    "colab_type": "code",
    "id": "KMqqM2XNzgjV"
   },
   "outputs": [],
   "source": [
    "# Generating List of Ham words\n",
    "list_ham_words = []\n",
    "for sublist in words_data_ham:\n",
    "    for item in sublist:\n",
    "        list_ham_words.append(item)\n",
    "\n",
    "# Generating List of Spam words\n",
    "list_spam_words=[]\n",
    "for sublist in words_data_spam:\n",
    "  for item in sublist:\n",
    "    list_spam_words.append(item)"
   ]
  },
  {
   "cell_type": "code",
   "execution_count": 0,
   "metadata": {
    "colab": {},
    "colab_type": "code",
    "id": "obiWHuh-4I1M"
   },
   "outputs": [],
   "source": [
    "# Converting the words into counts \n",
    "c_ham  = Counter(list_ham_words)\n",
    "c_spam = Counter(list_spam_words)\n",
    "df_hamwords_top20  = pd.DataFrame(c_ham.most_common(20),  columns=['word', 'count'])\n",
    "df_spamwords_top20 = pd.DataFrame(c_spam.most_common(20), columns=['word', 'count'])"
   ]
  },
  {
   "cell_type": "code",
   "execution_count": 129,
   "metadata": {
    "colab": {
     "base_uri": "https://localhost:8080/",
     "height": 466
    },
    "colab_type": "code",
    "id": "jwKAxZ0L4OMW",
    "outputId": "b301707a-e064-41ce-e305-1aef43fb751a"
   },
   "outputs": [
    {
     "data": {
      "text/plain": [
       "(array([ 0,  1,  2,  3,  4,  5,  6,  7,  8,  9, 10, 11, 12, 13, 14, 15, 16,\n",
       "        17, 18, 19]), <a list of 20 Text major ticklabel objects>)"
      ]
     },
     "execution_count": 129,
     "metadata": {
      "tags": []
     },
     "output_type": "execute_result"
    },
    {
     "data": {
      "image/png": "[encoded data removed]",
      "text/plain": [
       "<Figure size 720x432 with 1 Axes>"
      ]
     },
     "metadata": {
      "tags": []
     },
     "output_type": "display_data"
    }
   ],
   "source": [
    "# Top 20 Ham words Barplot\n",
    "fig, ax = plt.subplots(figsize=(10, 6))\n",
    "sns.barplot(x='word', y='count', \n",
    "            data=df_hamwords_top20, ax=ax)\n",
    "plt.title(\"Top 20 Ham words\")\n",
    "plt.xticks(rotation='vertical')"
   ]
  },
  {
   "cell_type": "code",
   "execution_count": 130,
   "metadata": {
    "colab": {
     "base_uri": "https://localhost:8080/",
     "height": 479
    },
    "colab_type": "code",
    "id": "pOLsnrBP4XYX",
    "outputId": "33b802b2-f4d7-4ba2-8fa0-e89fec4665be"
   },
   "outputs": [
    {
     "data": {
      "text/plain": [
       "(array([ 0,  1,  2,  3,  4,  5,  6,  7,  8,  9, 10, 11, 12, 13, 14, 15, 16,\n",
       "        17, 18, 19]), <a list of 20 Text major ticklabel objects>)"
      ]
     },
     "execution_count": 130,
     "metadata": {
      "tags": []
     },
     "output_type": "execute_result"
    },
    {
     "data": {
      "image/png": "[encoded data removed]",
      "text/plain": [
       "<Figure size 720x432 with 1 Axes>"
      ]
     },
     "metadata": {
      "tags": []
     },
     "output_type": "display_data"
    }
   ],
   "source": [
    "# Top 20 Spam words Barplot\n",
    "fig, ax = plt.subplots(figsize=(10, 6))\n",
    "sns.barplot(x='word', y='count', \n",
    "            data=df_spamwords_top20, ax=ax)\n",
    "plt.title(\"Top 20 Spam words\")\n",
    "plt.xticks(rotation='vertical')"
   ]
  },
  {
   "cell_type": "code",
   "execution_count": 131,
   "metadata": {
    "colab": {
     "base_uri": "https://localhost:8080/",
     "height": 221
    },
    "colab_type": "code",
    "id": "9qOlCVdBzgnE",
    "outputId": "9df0e966-50bd-45bd-e196-a4537681131a"
   },
   "outputs": [
    {
     "data": {
      "text/plain": [
       "4       1050\n",
       "707      196\n",
       "2258    2024\n",
       "4694     861\n",
       "2336     171\n",
       "        ... \n",
       "1073     428\n",
       "3557     302\n",
       "1749     229\n",
       "2813      89\n",
       "2951    1903\n",
       "Name: texts, Length: 3252, dtype: int64"
      ]
     },
     "execution_count": 131,
     "metadata": {
      "tags": []
     },
     "output_type": "execute_result"
    }
   ],
   "source": [
    "#Adding New Variable length \n",
    "X_train_length=X_train.apply(len)\n",
    "X_train_length"
   ]
  },
  {
   "cell_type": "markdown",
   "metadata": {
    "colab_type": "text",
    "id": "GxCh5acHMuTY"
   },
   "source": [
    "# Distributions for Ham and Spam"
   ]
  },
  {
   "cell_type": "code",
   "execution_count": 132,
   "metadata": {
    "colab": {
     "base_uri": "https://localhost:8080/",
     "height": 312
    },
    "colab_type": "code",
    "id": "PaWXq4Obzgdy",
    "outputId": "0aa6f9fb-d046-47f8-efce-0a22696bcc12"
   },
   "outputs": [
    {
     "data": {
      "text/plain": [
       "[Text(0, 0.5, 'Length')]"
      ]
     },
     "execution_count": 132,
     "metadata": {
      "tags": []
     },
     "output_type": "execute_result"
    },
    {
     "data": {
      "image/png": "[encoded data removed]",
      "text/plain": [
       "<Figure size 432x288 with 1 Axes>"
      ]
     },
     "metadata": {
      "tags": []
     },
     "output_type": "display_data"
    }
   ],
   "source": [
    "# Distribuion of length of Ham and Spam using Boxplot\n",
    "ax=sns.boxplot(y=X_train_length, x=y_train)\n",
    "plt.title(\"Boxplot of Ham and Spam Length \")\n",
    "ax.set(ylim=(-100, 2500))\n",
    "ax.set(ylabel='Length')\n"
   ]
  },
  {
   "cell_type": "code",
   "execution_count": 133,
   "metadata": {
    "colab": {
     "base_uri": "https://localhost:8080/",
     "height": 388
    },
    "colab_type": "code",
    "id": "OtfpRUEHJx3P",
    "outputId": "bd36246d-6ace-46c3-f779-8e927251c8c2"
   },
   "outputs": [
    {
     "data": {
      "image/png": "[encoded data removed]",
      "text/plain": [
       "<Figure size 1440x432 with 2 Axes>"
      ]
     },
     "metadata": {
      "tags": []
     },
     "output_type": "display_data"
    }
   ],
   "source": [
    "# Distribuion of length of Ham and Spam using distribution plot\n",
    "f, ax = plt.subplots(1, 2, figsize = (20, 6))\n",
    "\n",
    "sns.distplot(X_train[y_train == 1].apply(len), bins = 20, ax = ax[0])\n",
    "ax[0].set_xlabel(\"Spam email Word Length\")\n",
    "\n",
    "sns.distplot(X_train[y_train == 0].apply(len), bins = 20, ax = ax[1])\n",
    "ax[1].set_xlabel(\"Ham email Word Length\")\n",
    "\n",
    "plt.show()"
   ]
  },
  {
   "cell_type": "markdown",
   "metadata": {
    "colab_type": "text",
    "id": "btQOVrkeln3J"
   },
   "source": [
    "- **Explanation:** As the distribution of length of Spam and Ham email is nearly the same as median for both the boxplot is nearly the same but as there are a lot of outliers in spam compared to ham so spam is more skewed compared to ham. So we can say in the general length of  Spam email is longer compared to the length of the ham email."
   ]
  },
  {
   "cell_type": "markdown",
   "metadata": {
    "colab_type": "text",
    "id": "m31FmFUGTKEH"
   },
   "source": [
    "# Training the Model"
   ]
  },
  {
   "cell_type": "code",
   "execution_count": 0,
   "metadata": {
    "colab": {},
    "colab_type": "code",
    "id": "EmWJQHq1pgXo"
   },
   "outputs": [],
   "source": [
    "# Split the data into 70% training and 30% testing\n",
    "X_train,X_test,y_train,y_test=train_test_split(X_train_features,df['spam'],test_size=0.30,random_state=0)"
   ]
  },
  {
   "cell_type": "code",
   "execution_count": 135,
   "metadata": {
    "colab": {
     "base_uri": "https://localhost:8080/",
     "height": 362
    },
    "colab_type": "code",
    "id": "5968NcD_OLEV",
    "outputId": "253ca764-1ee8-4f7a-91ca-213a15ac18ac"
   },
   "outputs": [
    {
     "name": "stdout",
     "output_type": "stream",
     "text": [
      "K Nearest Neighbors: 95.510524 (0.010033)\n",
      "Decision Tree: 91.358943 (0.008879)\n",
      "Logistic Regression: 97.908636 (0.005814)\n",
      "Naive Bayes: 89.484096 (0.020179)\n"
     ]
    },
    {
     "data": {
      "image/png": "[encoded data removed]",
      "text/plain": [
       "<Figure size 432x288 with 1 Axes>"
      ]
     },
     "metadata": {
      "tags": []
     },
     "output_type": "display_data"
    }
   ],
   "source": [
    "from sklearn.neighbors import KNeighborsClassifier\n",
    "from sklearn.naive_bayes import MultinomialNB\n",
    "from sklearn.linear_model import LogisticRegression\n",
    "from sklearn.tree import DecisionTreeClassifier\n",
    "from sklearn.metrics import classification_report,confusion_matrix,accuracy_score,precision_score, recall_score\n",
    "from sklearn import model_selection\n",
    "\n",
    "names = [\"K Nearest Neighbors\",\"Decision Tree\", \"Logistic Regression\",\"Naive Bayes\"]\n",
    "\n",
    "classifiers = [\n",
    "    KNeighborsClassifier(n_neighbors=4,p=2),\n",
    "    DecisionTreeClassifier(max_depth=12,criterion ='entropy'),\n",
    "    LogisticRegression(penalty = 'l2', C = 1,random_state = 0,solver='lbfgs'),\n",
    "    MultinomialNB(),\n",
    "    ]\n",
    "\n",
    "models = zip(names, classifiers)\n",
    "\n",
    "# evaluate each model in turn\n",
    "results = []\n",
    "\n",
    "for name, model in models:\n",
    "\tkfold = model_selection.KFold(n_splits=10)\n",
    "\tcv_results = model_selection.cross_val_score(model, X_train, y_train, cv=kfold, scoring='accuracy')\n",
    "\tresults.append(cv_results)\n",
    "\tmsg = \"%s: %f (%f)\" % (name, (100 * cv_results.mean()), cv_results.std())\n",
    "\tprint(msg)\n",
    "# boxplot algorithm comparison\n",
    "fig = plt.figure()\n",
    "fig.suptitle('Classifier Comparison')\n",
    "ax = fig.add_subplot(111)\n",
    "plt.boxplot(results)\n",
    "ax.set_xticklabels(names)\n",
    "plt.show()"
   ]
  },
  {
   "cell_type": "markdown",
   "metadata": {
    "colab_type": "text",
    "id": "wqx0auO8ucDV"
   },
   "source": [
    "- **Explanation:**  \n",
    "- KNeighbors Classifier: For Higher value of n_neighbour i.e n>4,we get good accuracy for manhattan_distance (p=1).Even for small value of n_neighbour i.e n =2 to 4  we get good accuracy for euliddean_distance (p=2).\n",
    "- DecisionTree Classifier: For both gain as gini or entropy their is not much change in accuracy by varing the max_depth.As we increase the max_ depth above 12 the model become over-fitting model.\n",
    "- LogisticRegression Classifier: For Ridge Regression (penality=l2),C=0.5 to 1,solver='lbfgs' we get best accuracy maximum accuracy=97.90% .For Lasso Regression (penality=l1),solver='liblinear' we get good accuracy for higher value to C i.e C=10 maximum accuracy=96.92%"
   ]
  },
  {
   "cell_type": "markdown",
   "metadata": {
    "colab_type": "text",
    "id": "ByCtN2eHneEK"
   },
   "source": [
    "# Model Selection"
   ]
  },
  {
   "cell_type": "code",
   "execution_count": 136,
   "metadata": {
    "colab": {
     "base_uri": "https://localhost:8080/",
     "height": 629
    },
    "colab_type": "code",
    "id": "BrB9V5Z-OK_U",
    "outputId": "d9483ddb-57f5-4970-bc9d-216d5c25fb0c"
   },
   "outputs": [
    {
     "name": "stdout",
     "output_type": "stream",
     "text": [
      "\n",
      "K Nearest Neighbors:\n",
      "Confusion Matrix:\n",
      "\n",
      "[[2196   13]\n",
      " [  43 1000]]\n",
      "Accuracy :98.28%\n",
      "Precision: 98.72%\n",
      "Recall: 95.88%\n",
      "\n",
      "Decision Tree:\n",
      "Confusion Matrix:\n",
      "\n",
      "[[2029  180]\n",
      " [   5 1038]]\n",
      "Accuracy :94.31%\n",
      "Precision: 85.22%\n",
      "Recall: 99.52%\n",
      "\n",
      "Logistic Regression:\n",
      "Confusion Matrix:\n",
      "\n",
      "[[2191   18]\n",
      " [   1 1042]]\n",
      "Accuracy :99.42%\n",
      "Precision: 98.30%\n",
      "Recall: 99.90%\n",
      "\n",
      "Naive Bayes:\n",
      "Confusion Matrix:\n",
      "\n",
      "[[2208    1]\n",
      " [ 147  896]]\n",
      "Accuracy :95.45%\n",
      "Precision: 99.89%\n",
      "Recall: 85.91%\n"
     ]
    }
   ],
   "source": [
    "from sklearn.neighbors import KNeighborsClassifier\n",
    "from sklearn.linear_model import LogisticRegression\n",
    "from sklearn.metrics import classification_report,confusion_matrix,accuracy_score,precision_score, recall_score\n",
    "\n",
    "names = [\"K Nearest Neighbors\",\"Decision Tree\", \"Logistic Regression\",\"Naive Bayes\"]\n",
    "\n",
    "classifiers = [\n",
    "    KNeighborsClassifier(n_neighbors=4,p=2),\n",
    "    DecisionTreeClassifier(max_depth=12,criterion ='entropy'),\n",
    "    LogisticRegression(penalty = 'l2', C = 1,random_state = 0,solver='lbfgs'),\n",
    "    MultinomialNB(),\n",
    "    ]\n",
    "\n",
    "models = zip(names, classifiers)\n",
    "\n",
    "for name, model in models:\n",
    "    model.fit(X_train, y_train)\n",
    "    y_pred = model.predict(X_train)\n",
    "    print(\"\\n\" + name + \":\")\n",
    "    print(\"Confusion Matrix:\\n\") \n",
    "    confusion_m = confusion_matrix(y_train, y_pred)\n",
    "    print(confusion_m)\n",
    "    print(\"Accuracy :{:.2f}%\".format(100 *accuracy_score(y_train,y_pred)))\n",
    "    print(\"Precision: {:.2f}%\".format(100 * precision_score(y_train, y_pred)))\n",
    "    print(\"Recall: {:.2f}%\".format(100 * recall_score(y_train, y_pred)))"
   ]
  },
  {
   "cell_type": "markdown",
   "metadata": {
    "colab_type": "text",
    "id": "JY5_2fTB3R9U"
   },
   "source": [
    "**Explanation:**\n",
    "-\tBased on Accuracy: Logistic Regression is best model having accuracy of 99.42% followed by K Nearest Neighbour.\n",
    "-\tBased on Precision: Multinominal Navive Bayes is best model having a precision of 99.89% followed by K Nearest Neighbour.\n",
    "-\tBased on Recall : Decision Tree is best model having Recall of 100% followed by Logistic Regression.\n",
    "\n",
    " As we can see Logistic Regression is best model for our Training dataset compared to other model based on model accuracy "
   ]
  },
  {
   "cell_type": "markdown",
   "metadata": {
    "colab_type": "text",
    "id": "Io5tm-hS9SXN"
   },
   "source": [
    "# Model Evaluation"
   ]
  },
  {
   "cell_type": "code",
   "execution_count": 137,
   "metadata": {
    "colab": {
     "base_uri": "https://localhost:8080/",
     "height": 306
    },
    "colab_type": "code",
    "id": "e_9bXiLcOLRZ",
    "outputId": "a6aa9f0e-39ae-4119-8cb0-31bc856521c3"
   },
   "outputs": [
    {
     "name": "stdout",
     "output_type": "stream",
     "text": [
      "              precision    recall  f1-score   support\n",
      "\n",
      "           0       1.00      0.98      0.99       976\n",
      "           1       0.96      0.99      0.98       419\n",
      "\n",
      "    accuracy                           0.98      1395\n",
      "   macro avg       0.98      0.99      0.98      1395\n",
      "weighted avg       0.99      0.98      0.99      1395\n",
      "\n",
      "\n",
      "Confusion Matrix :\n",
      " [[959  17]\n",
      " [  4 415]]\n",
      "\n",
      "Accuracy :98.49%\n",
      "Precision: 96.06%\n",
      "Recall: 99.05%\n"
     ]
    }
   ],
   "source": [
    "from sklearn.linear_model import LogisticRegression\n",
    "classifier=LogisticRegression(penalty = 'l2', C = 0.5,random_state = 0).fit(X_train,y_train)\n",
    "pred=classifier.predict(X_test)\n",
    "print(classification_report(y_test,pred))\n",
    "print()\n",
    "print('Confusion Matrix :\\n',confusion_matrix(y_test,pred))\n",
    "print()\n",
    "print(\"Accuracy :{:.2f}%\".format(100 *accuracy_score(y_test,pred)))\n",
    "print(\"Precision: {:.2f}%\".format(100 * precision_score(y_test, pred)))\n",
    "print(\"Recall: {:.2f}%\".format(100 * recall_score(y_test, pred)))"
   ]
  },
  {
   "cell_type": "markdown",
   "metadata": {
    "colab_type": "text",
    "id": "lMC5grLc9Y_e"
   },
   "source": [
    "**Explanation**\n",
    "-\tWe get an accuracy of 98.49% by correctly identifying the email as spam or ham i.e (959+415)/1395 \n",
    "- Precision is 96.06 % i.e 415/(415+17) and \n",
    "-\tRecall is 99.05% i.e 415/(415+4) \n",
    "-\tWe have only 1.5 % of Misclassified email as spam i.e (17+4)/1395\n"
   ]
  },
  {
   "cell_type": "markdown",
   "metadata": {
    "colab_type": "text",
    "id": "890QHBEySoN7"
   },
   "source": [
    "# ROC Curve"
   ]
  },
  {
   "cell_type": "code",
   "execution_count": 138,
   "metadata": {
    "colab": {
     "base_uri": "https://localhost:8080/",
     "height": 295
    },
    "colab_type": "code",
    "id": "VfHnknuPQpz_",
    "outputId": "5b90c5c4-a7ba-4217-a0a6-8f7e55722a86"
   },
   "outputs": [
    {
     "data": {
      "image/png": "[encoded data removed]",
      "text/plain": [
       "<Figure size 432x288 with 1 Axes>"
      ]
     },
     "metadata": {
      "tags": []
     },
     "output_type": "display_data"
    }
   ],
   "source": [
    "from sklearn.metrics import roc_curve, auc\n",
    "from sklearn.metrics import roc_auc_score\n",
    "# predictive probalities for Logistic Regression\n",
    "y_pred_prob=classifier.predict_proba(X_test)[:,1]\n",
    "fpr, tpr,threshold = roc_curve(y_test, y_pred_prob)\n",
    "plt.plot([0,1],[0,1],'k--')\n",
    "plt.plot(fpr,tpr,label='Logistic Regression')\n",
    "plt.xlabel('False Positive Rate')\n",
    "plt.ylabel('True Positive Rate')\n",
    "plt.title('Logistic Regression ROC Curve')\n",
    "plt.show()"
   ]
  },
  {
   "cell_type": "code",
   "execution_count": 139,
   "metadata": {
    "colab": {
     "base_uri": "https://localhost:8080/",
     "height": 34
    },
    "colab_type": "code",
    "id": "IYEcna7ROLK9",
    "outputId": "97f389f0-432b-4385-c2a0-48b41036dc2a"
   },
   "outputs": [
    {
     "name": "stdout",
     "output_type": "stream",
     "text": [
      "Logistic: ROC AUC=0.998\n"
     ]
    }
   ],
   "source": [
    "# calculate scores\n",
    "lr_auc = roc_auc_score(y_test,y_pred_prob)\n",
    "print('Logistic: ROC AUC=%.3f' % (lr_auc))"
   ]
  },
  {
   "cell_type": "markdown",
   "metadata": {
    "colab_type": "text",
    "id": "WEIPRJk_WVxl"
   },
   "source": [
    "**Explanation:**\n",
    "- As we got ROC_AUC score near to 1 so our logistic regression shows good accuracy in predicting the probability of email as spam or ham\n"
   ]
  }
 ],
 "metadata": {
  "colab": {
   "name": "Ass.ipynb",
   "provenance": []
  },
  "kernelspec": {
   "display_name": "Python 3",
   "language": "python",
   "name": "python3"
  },
  "language_info": {
   "codemirror_mode": {
    "name": "ipython",
    "version": 3
   },
   "file_extension": ".py",
   "mimetype": "text/x-python",
   "name": "python",
   "nbconvert_exporter": "python",
   "pygments_lexer": "ipython3",
   "version": "3.7.3"
  }
 },
 "nbformat": 4,
 "nbformat_minor": 1
}

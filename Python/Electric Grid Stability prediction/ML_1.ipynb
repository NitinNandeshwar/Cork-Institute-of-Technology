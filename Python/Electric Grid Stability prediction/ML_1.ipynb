{
  "nbformat": 4,
  "nbformat_minor": 0,
  "metadata": {
    "colab": {
      "name": "ML_1.ipynb",
      "provenance": []
    },
    "kernelspec": {
      "name": "python3",
      "display_name": "Python 3"
    }
  },
  "cells": [
    {
      "cell_type": "markdown",
      "metadata": {
        "id": "Xxq8XzrVpdpA",
        "colab_type": "text"
      },
      "source": [
        "# Assignment 2\n",
        "## Nitin Nandeshwar\n",
        "## R00183235\n",
        "## 16/04/2020"
      ]
    },
    {
      "cell_type": "code",
      "metadata": {
        "id": "88rbwvwqhcjr",
        "colab_type": "code",
        "outputId": "3cf79ba5-1e51-483a-b1f3-0d7eb83f6567",
        "colab": {
          "resources": {
            "http://localhost:8080/nbextensions/google.colab/files.js": {
              "data": "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",
              "ok": true,
              "headers": [
                [
                  "content-type",
                  "application/javascript"
                ]
              ],
              "status": 200,
              "status_text": ""
            }
          },
          "base_uri": "https://localhost:8080/",
          "height": 74
        }
      },
      "source": [
        "from google.colab import files\n",
        "uploaded = files.upload()"
      ],
      "execution_count": 138,
      "outputs": [
        {
          "output_type": "display_data",
          "data": {
            "text/html": [
              "\n",
              "     <input type=\"file\" id=\"files-7e26fe90-d3f7-414b-99a9-213b4033b99e\" name=\"files[]\" multiple disabled />\n",
              "     <output id=\"result-7e26fe90-d3f7-414b-99a9-213b4033b99e\">\n",
              "      Upload widget is only available when the cell has been executed in the\n",
              "      current browser session. Please rerun this cell to enable.\n",
              "      </output>\n",
              "      <script src=\"/nbextensions/google.colab/files.js\"></script> "
            ],
            "text/plain": [
              "<IPython.core.display.HTML object>"
            ]
          },
          "metadata": {
            "tags": []
          }
        },
        {
          "output_type": "stream",
          "text": [
            "Saving Electric_Grid_Stability.csv to Electric_Grid_Stability (4).csv\n"
          ],
          "name": "stdout"
        }
      ]
    },
    {
      "cell_type": "code",
      "metadata": {
        "id": "p1VbZbBZPUgr",
        "colab_type": "code",
        "outputId": "481d350e-7056-4260-c003-7663409ae992",
        "colab": {
          "base_uri": "https://localhost:8080/",
          "height": 51
        }
      },
      "source": [
        "# checking the file delimiter format\n",
        "print (uploaded['Electric_Grid_Stability.csv'][:200].decode('utf-8') + '...')"
      ],
      "execution_count": 139,
      "outputs": [
        {
          "output_type": "stream",
          "text": [
            "\"tau1\",\"tau2\",\"tau3\",\"tau4\",\"p1\",\"p2\",\"p3\",\"p4\",\"g1\",\"g2\",\"g3\",\"g4\",\"stab\",\"stabf\"\r\n",
            "2.95906002455997,3.07988520422811,8.38102539191882,9.78075443222607,3.76308477206316,-0.782603630987543,-1.257394829...\n"
          ],
          "name": "stdout"
        }
      ]
    },
    {
      "cell_type": "markdown",
      "metadata": {
        "id": "DJZer6P0q0dN",
        "colab_type": "text"
      },
      "source": [
        "# 1.Importing necessary libraries"
      ]
    },
    {
      "cell_type": "code",
      "metadata": {
        "id": "BbD3hRIYhkuH",
        "colab_type": "code",
        "colab": {}
      },
      "source": [
        "import numpy as np \n",
        "import pandas as pd \n",
        "import io\n",
        "\n",
        "import matplotlib.pyplot as plt\n",
        "import seaborn as sns"
      ],
      "execution_count": 0,
      "outputs": []
    },
    {
      "cell_type": "markdown",
      "metadata": {
        "id": "Oi5t3Alyqm_T",
        "colab_type": "text"
      },
      "source": [
        "# 2.Loading data"
      ]
    },
    {
      "cell_type": "code",
      "metadata": {
        "id": "uyx0DZMIiWNs",
        "colab_type": "code",
        "colab": {}
      },
      "source": [
        "# loading the file in data frame\n",
        "df= pd.read_csv(io.StringIO(uploaded['Electric_Grid_Stability.csv'].decode('utf-8')))"
      ],
      "execution_count": 0,
      "outputs": []
    },
    {
      "cell_type": "code",
      "metadata": {
        "id": "brd5abkIiWcI",
        "colab_type": "code",
        "outputId": "dcc170a5-5a9a-461e-a9c9-1f8b09391b7f",
        "colab": {
          "base_uri": "https://localhost:8080/",
          "height": 374
        }
      },
      "source": [
        "# Structure of dataset\n",
        "df.info()"
      ],
      "execution_count": 142,
      "outputs": [
        {
          "output_type": "stream",
          "text": [
            "<class 'pandas.core.frame.DataFrame'>\n",
            "RangeIndex: 10000 entries, 0 to 9999\n",
            "Data columns (total 14 columns):\n",
            " #   Column  Non-Null Count  Dtype  \n",
            "---  ------  --------------  -----  \n",
            " 0   tau1    10000 non-null  float64\n",
            " 1   tau2    10000 non-null  float64\n",
            " 2   tau3    10000 non-null  float64\n",
            " 3   tau4    10000 non-null  float64\n",
            " 4   p1      10000 non-null  float64\n",
            " 5   p2      10000 non-null  float64\n",
            " 6   p3      10000 non-null  float64\n",
            " 7   p4      10000 non-null  float64\n",
            " 8   g1      10000 non-null  float64\n",
            " 9   g2      10000 non-null  float64\n",
            " 10  g3      10000 non-null  float64\n",
            " 11  g4      10000 non-null  float64\n",
            " 12  stab    10000 non-null  float64\n",
            " 13  stabf   10000 non-null  object \n",
            "dtypes: float64(13), object(1)\n",
            "memory usage: 1.1+ MB\n"
          ],
          "name": "stdout"
        }
      ]
    },
    {
      "cell_type": "markdown",
      "metadata": {
        "id": "VS8Ov89fq-mm",
        "colab_type": "text"
      },
      "source": [
        "# 3.Data Preprocessing"
      ]
    },
    {
      "cell_type": "markdown",
      "metadata": {
        "id": "j6yh3z4drMXx",
        "colab_type": "text"
      },
      "source": [
        "* 3.1 Checking for duplicates"
      ]
    },
    {
      "cell_type": "code",
      "metadata": {
        "id": "nRDc-EFjiWfo",
        "colab_type": "code",
        "outputId": "d0abc6ed-84f1-412d-b463-1b9dc78be485",
        "colab": {
          "base_uri": "https://localhost:8080/",
          "height": 34
        }
      },
      "source": [
        "print('Number of duplicates in dataset : ',sum(df.duplicated()))"
      ],
      "execution_count": 143,
      "outputs": [
        {
          "output_type": "stream",
          "text": [
            "Number of duplicates in dataset :  0\n"
          ],
          "name": "stdout"
        }
      ]
    },
    {
      "cell_type": "markdown",
      "metadata": {
        "id": "Ej6rDOAwrRwn",
        "colab_type": "text"
      },
      "source": [
        "* 3.2 Checking for missing values"
      ]
    },
    {
      "cell_type": "code",
      "metadata": {
        "id": "jckjdNJtiWir",
        "colab_type": "code",
        "outputId": "c764ce61-f97d-482d-fcf1-1f37adf9b229",
        "colab": {
          "base_uri": "https://localhost:8080/",
          "height": 34
        }
      },
      "source": [
        "print('Total number of missing values in dataset : ', df.isna().values.sum())"
      ],
      "execution_count": 144,
      "outputs": [
        {
          "output_type": "stream",
          "text": [
            "Total number of missing values in dataset :  0\n"
          ],
          "name": "stdout"
        }
      ]
    },
    {
      "cell_type": "code",
      "metadata": {
        "id": "UZhg9A2miWob",
        "colab_type": "code",
        "outputId": "2b5903ae-34e2-4a3b-e79c-e65515b70d74",
        "colab": {
          "base_uri": "https://localhost:8080/",
          "height": 272
        }
      },
      "source": [
        "# get the number of missing data points per column\n",
        "missing_values_count = df.isnull().sum()\n",
        "\n",
        "# look at the # of missing points in the first ten columns\n",
        "missing_values_count"
      ],
      "execution_count": 145,
      "outputs": [
        {
          "output_type": "execute_result",
          "data": {
            "text/plain": [
              "tau1     0\n",
              "tau2     0\n",
              "tau3     0\n",
              "tau4     0\n",
              "p1       0\n",
              "p2       0\n",
              "p3       0\n",
              "p4       0\n",
              "g1       0\n",
              "g2       0\n",
              "g3       0\n",
              "g4       0\n",
              "stab     0\n",
              "stabf    0\n",
              "dtype: int64"
            ]
          },
          "metadata": {
            "tags": []
          },
          "execution_count": 145
        }
      ]
    },
    {
      "cell_type": "code",
      "metadata": {
        "id": "tpAXxKf8iWl3",
        "colab_type": "code",
        "outputId": "722efdd8-e58a-4c55-d092-2c04d2daccad",
        "colab": {
          "base_uri": "https://localhost:8080/",
          "height": 34
        }
      },
      "source": [
        "# how many total missing values do we have?\n",
        "total_cells = np.product(df.shape)\n",
        "total_missing = missing_values_count.sum()\n",
        "\n",
        "# percent of data that is missing\n",
        "(total_missing/total_cells) * 100"
      ],
      "execution_count": 146,
      "outputs": [
        {
          "output_type": "execute_result",
          "data": {
            "text/plain": [
              "0.0"
            ]
          },
          "metadata": {
            "tags": []
          },
          "execution_count": 146
        }
      ]
    },
    {
      "cell_type": "markdown",
      "metadata": {
        "id": "ZjQeniOLrb9C",
        "colab_type": "text"
      },
      "source": [
        "* 3.3 Checking for class imbalance"
      ]
    },
    {
      "cell_type": "code",
      "metadata": {
        "id": "BwAcIo9Lj24F",
        "colab_type": "code",
        "outputId": "61d462b5-d515-4246-be6f-751ec33200ed",
        "colab": {
          "base_uri": "https://localhost:8080/",
          "height": 563
        }
      },
      "source": [
        "# Barplot of Categorical variable stabf\n",
        "plt.figure(figsize=(10,8))\n",
        "plt.title('Barplot of Stability')\n",
        "sns.countplot(df['stabf'])\n",
        "plt.xticks(rotation=90)"
      ],
      "execution_count": 147,
      "outputs": [
        {
          "output_type": "execute_result",
          "data": {
            "text/plain": [
              "(array([0, 1]), <a list of 2 Text major ticklabel objects>)"
            ]
          },
          "metadata": {
            "tags": []
          },
          "execution_count": 147
        },
        {
          "output_type": "display_data",
          "data": {
            "image/png": "[encoded data removed]",
            "text/plain": [
              "<Figure size 720x576 with 1 Axes>"
            ]
          },
          "metadata": {
            "tags": []
          }
        }
      ]
    },
    {
      "cell_type": "code",
      "metadata": {
        "id": "KWzoRZKTj3Bq",
        "colab_type": "code",
        "outputId": "2d6ac0b4-51cd-4bc5-a5a9-4a26fe295674",
        "colab": {
          "base_uri": "https://localhost:8080/",
          "height": 51
        }
      },
      "source": [
        "# Distribution of factors in variable stabf\n",
        "print('No Stability', round(df['stabf'].value_counts()[0]/len(df) * 100,2), '% of the dataset')\n",
        "print('Stability', round(df['stabf'].value_counts()[1]/len(df) * 100,2), '% of the dataset')"
      ],
      "execution_count": 148,
      "outputs": [
        {
          "output_type": "stream",
          "text": [
            "No Stability 63.8 % of the dataset\n",
            "Stability 36.2 % of the dataset\n"
          ],
          "name": "stdout"
        }
      ]
    },
    {
      "cell_type": "markdown",
      "metadata": {
        "id": "cqL1aQCJxxXx",
        "colab_type": "text"
      },
      "source": [
        "As we can see the data is not balanced it will affect the predicting model accuracy."
      ]
    },
    {
      "cell_type": "markdown",
      "metadata": {
        "id": "ujQa4QdhrkZ1",
        "colab_type": "text"
      },
      "source": [
        "# 4.Exploratory Data Analysis"
      ]
    },
    {
      "cell_type": "code",
      "metadata": {
        "id": "GhRbAdWlDqRC",
        "colab_type": "code",
        "outputId": "4378014d-209e-49d0-9c1b-cde7982173d9",
        "colab": {
          "base_uri": "https://localhost:8080/",
          "height": 612
        }
      },
      "source": [
        "# Correlation plot of all varaibles in Dataset\n",
        "plt.figure(figsize=(20,10))\n",
        "sns.heatmap(df.corr(),annot=True)"
      ],
      "execution_count": 149,
      "outputs": [
        {
          "output_type": "execute_result",
          "data": {
            "text/plain": [
              "<matplotlib.axes._subplots.AxesSubplot at 0x7f9788f7d208>"
            ]
          },
          "metadata": {
            "tags": []
          },
          "execution_count": 149
        },
        {
          "output_type": "display_data",
          "data": {
            "image/png": "[encoded data removed]",
            "text/plain": [
              "<Figure size 1440x720 with 2 Axes>"
            ]
          },
          "metadata": {
            "tags": []
          }
        }
      ]
    },
    {
      "cell_type": "markdown",
      "metadata": {
        "id": "VpPbr2c1yWBL",
        "colab_type": "text"
      },
      "source": [
        "**Explanation**\n",
        "\n",
        "So we can see that there is some relationship between “stab” ,” 'tau1' to 'tau4'”and” 'g1' to 'g4'”.variables 'p1' to 'p4' have high collinearity between them but they have very low correlation with “stab”. So the variable 'p1' to 'p4' will not effect the prediction of classification variable “stabf”."
      ]
    },
    {
      "cell_type": "code",
      "metadata": {
        "id": "Nz31K95YHrdy",
        "colab_type": "code",
        "outputId": "d0cb51a0-f0dd-4a7d-eb99-dc5ebd3da2b2",
        "colab": {
          "base_uri": "https://localhost:8080/",
          "height": 386
        }
      },
      "source": [
        "# Histogram of variable stabf with factors\n",
        "facetgrid = sns.FacetGrid(df, hue='stabf', height=5,aspect=3)\n",
        "facetgrid.map(sns.distplot,'stab', hist=True).add_legend()\n"
      ],
      "execution_count": 150,
      "outputs": [
        {
          "output_type": "execute_result",
          "data": {
            "text/plain": [
              "<seaborn.axisgrid.FacetGrid at 0x7f978900e400>"
            ]
          },
          "metadata": {
            "tags": []
          },
          "execution_count": 150
        },
        {
          "output_type": "display_data",
          "data": {
            "image/png": "[encoded data removed]",
            "text/plain": [
              "<Figure size 1159.25x360 with 1 Axes>"
            ]
          },
          "metadata": {
            "tags": []
          }
        }
      ]
    },
    {
      "cell_type": "markdown",
      "metadata": {
        "id": "FHmUNgeduBbP",
        "colab_type": "text"
      },
      "source": [
        "**Explanation**\n",
        "\n",
        "As we can see  it is some region in factors distribution where both stable and unstable factor share which makes the operator difficult to differentiate between the stability and unstability of electric grid."
      ]
    },
    {
      "cell_type": "code",
      "metadata": {
        "id": "PVadCQ4lj3Dx",
        "colab_type": "code",
        "outputId": "716d709e-a672-46e0-8d29-b0f190cad1a6",
        "colab": {
          "base_uri": "https://localhost:8080/",
          "height": 509
        }
      },
      "source": [
        "plt.figure(figsize=(10,7))\n",
        "sns.boxplot(x='stabf', y='stab',data=df, showfliers=False)\n",
        "plt.ylabel('stability mean')\n",
        "plt.title(\"Boxplot of stability column across various activities\")\n",
        "plt.xticks(rotation=90)"
      ],
      "execution_count": 151,
      "outputs": [
        {
          "output_type": "execute_result",
          "data": {
            "text/plain": [
              "(array([0, 1]), <a list of 2 Text major ticklabel objects>)"
            ]
          },
          "metadata": {
            "tags": []
          },
          "execution_count": 151
        },
        {
          "output_type": "display_data",
          "data": {
            "image/png": "[encoded data removed]",
            "text/plain": [
              "<Figure size 720x504 with 1 Axes>"
            ]
          },
          "metadata": {
            "tags": []
          }
        }
      ]
    },
    {
      "cell_type": "markdown",
      "metadata": {
        "id": "6B5wkcJaBwb-",
        "colab_type": "text"
      },
      "source": [
        "As we can see the median is not same for both stability factor for differential equation root \"stab\".So their is some information pattern exsist betweendifferential equation root and stability factor."
      ]
    },
    {
      "cell_type": "code",
      "metadata": {
        "id": "ItZxwOmy276A",
        "colab_type": "code",
        "colab": {
          "base_uri": "https://localhost:8080/",
          "height": 459
        },
        "outputId": "1b456e14-ba56-43d5-c0d0-50589fc7c60c"
      },
      "source": [
        "# Boxplot of ge vs stabf variable\n",
        "plt.figure(figsize=(10,7))\n",
        "sns.boxplot(x='stabf', y=\"g3\",data=df, showfliers=False)"
      ],
      "execution_count": 152,
      "outputs": [
        {
          "output_type": "execute_result",
          "data": {
            "text/plain": [
              "<matplotlib.axes._subplots.AxesSubplot at 0x7f9788cb7748>"
            ]
          },
          "metadata": {
            "tags": []
          },
          "execution_count": 152
        },
        {
          "output_type": "display_data",
          "data": {
            "image/png": "[encoded data removed]",
            "text/plain": [
              "<Figure size 720x504 with 1 Axes>"
            ]
          },
          "metadata": {
            "tags": []
          }
        }
      ]
    },
    {
      "cell_type": "markdown",
      "metadata": {
        "id": "RIZhGr-aASk5",
        "colab_type": "text"
      },
      "source": [
        "As we can see the median is not same for both stability factor for price elasticity coefficient \"g3\".So their is some information pattern exsist between price elasticity coefficient and stability factor."
      ]
    },
    {
      "cell_type": "markdown",
      "metadata": {
        "id": "n4WQbSF7sioj",
        "colab_type": "text"
      },
      "source": [
        "# 5.ML models"
      ]
    },
    {
      "cell_type": "markdown",
      "metadata": {
        "id": "wguP1-jVwIca",
        "colab_type": "text"
      },
      "source": [
        "* 5.1 Defining the train and target"
      ]
    },
    {
      "cell_type": "code",
      "metadata": {
        "id": "RkGWMa4fwFcJ",
        "colab_type": "code",
        "colab": {}
      },
      "source": [
        "X=df.drop(['stabf'],axis=1)\n",
        "y=df['stabf']"
      ],
      "execution_count": 0,
      "outputs": []
    },
    {
      "cell_type": "code",
      "metadata": {
        "id": "lWENd7ENvHX_",
        "colab_type": "code",
        "colab": {}
      },
      "source": [
        "from sklearn.model_selection import train_test_split\n",
        "\n",
        "# Split the data into 80% training and 20% testing\n",
        "X_train,X_test,y_train,y_test=train_test_split(X,y,test_size=0.20,random_state=0)"
      ],
      "execution_count": 0,
      "outputs": []
    },
    {
      "cell_type": "code",
      "metadata": {
        "id": "lYPZCUyCscxU",
        "colab_type": "code",
        "outputId": "a990dfd7-f9bf-4f17-d2e6-7a6d8436511b",
        "colab": {
          "base_uri": "https://localhost:8080/",
          "height": 51
        }
      },
      "source": [
        "print('Training data size : ', X_train.shape)\n",
        "print('Test data size : ', X_test.shape)\n"
      ],
      "execution_count": 155,
      "outputs": [
        {
          "output_type": "stream",
          "text": [
            "Training data size :  (8000, 13)\n",
            "Test data size :  (2000, 13)\n"
          ],
          "name": "stdout"
        }
      ]
    },
    {
      "cell_type": "code",
      "metadata": {
        "id": "17iei2hD6noD",
        "colab_type": "code",
        "outputId": "54c266f0-bdd0-4f51-9efd-616cf4cb5df0",
        "colab": {
          "base_uri": "https://localhost:8080/",
          "height": 153
        }
      },
      "source": [
        "# Data balance\n",
        "from imblearn.over_sampling import SMOTE\n",
        "\n",
        "print(\"Before OverSampling, counts of label 'stable': {}\".format(sum(y_train==\"stable\")))\n",
        "print(\"Before OverSampling, counts of label 'unstable': {} \\n\".format(sum(y_train==\"unstable\")))\n",
        "\n",
        "# SMOTE function for balaning the categorical data \n",
        "sm = SMOTE(random_state=2)\n",
        "X_train_res, y_train_res = sm.fit_sample(X_train, y_train.ravel())\n",
        "\n",
        "print('After OverSampling, the shape of train_X: {}'.format(X_train_res.shape))\n",
        "print('After OverSampling, the shape of train_y: {} \\n'.format(y_train_res.shape))\n",
        "\n",
        "print(\"After OverSampling, counts of label 'stable': {}\".format(sum(y_train_res==\"stable\")))\n",
        "print(\"After OverSampling, counts of label 'unstable': {}\".format(sum(y_train_res==\"unstable\")))"
      ],
      "execution_count": 156,
      "outputs": [
        {
          "output_type": "stream",
          "text": [
            "Before OverSampling, counts of label 'stable': 2893\n",
            "Before OverSampling, counts of label 'unstable': 5107 \n",
            "\n",
            "After OverSampling, the shape of train_X: (10214, 13)\n",
            "After OverSampling, the shape of train_y: (10214,) \n",
            "\n",
            "After OverSampling, counts of label 'stable': 5107\n",
            "After OverSampling, counts of label 'unstable': 5107\n"
          ],
          "name": "stdout"
        }
      ]
    },
    {
      "cell_type": "markdown",
      "metadata": {
        "id": "okJQp8u9ssHi",
        "colab_type": "text"
      },
      "source": [
        "* 5.2 **Logistic regression model** with Hyperparameter tuning and cross validation"
      ]
    },
    {
      "cell_type": "code",
      "metadata": {
        "id": "q5qsyReWsrX3",
        "colab_type": "code",
        "colab": {}
      },
      "source": [
        "from sklearn. linear_model import LogisticRegression\n",
        "from sklearn.model_selection import RandomizedSearchCV\n",
        "from sklearn.metrics import confusion_matrix\n",
        "from sklearn.metrics import accuracy_score\n",
        "from sklearn.metrics import classification_report\n",
        "\n",
        "import warnings\n",
        "warnings.filterwarnings(\"ignore\")"
      ],
      "execution_count": 0,
      "outputs": []
    },
    {
      "cell_type": "markdown",
      "metadata": {
        "id": "azI9fu7ns2gH",
        "colab_type": "text"
      },
      "source": [
        ""
      ]
    },
    {
      "cell_type": "code",
      "metadata": {
        "id": "xmJcdwPhs3VL",
        "colab_type": "code",
        "colab": {}
      },
      "source": [
        "parameters = {'C':np.arange(10,61,10), 'penalty':['l2','l1']}\n",
        "lr_classifier = LogisticRegression()\n",
        "lr_classifier_rs = RandomizedSearchCV(lr_classifier, param_distributions=parameters, cv=10,random_state = 42)\n",
        "lr_classifier_rs.fit(X_train_res, y_train_res)\n",
        "\n",
        "# Data Imbalance\n",
        "lr_classifier_rs1 = RandomizedSearchCV(lr_classifier, param_distributions=parameters, cv=10,random_state = 42)\n",
        "lr_classifier_rs1.fit(X_train, y_train)\n",
        "\n",
        "y_pred = lr_classifier_rs.predict(X_test)\n",
        "\n",
        "y_pred1 = lr_classifier_rs1.predict(X_test)"
      ],
      "execution_count": 0,
      "outputs": []
    },
    {
      "cell_type": "code",
      "metadata": {
        "colab_type": "code",
        "outputId": "d1d45477-0264-4ef9-e227-96a3c2e3aa5e",
        "id": "hxwhZXpnyIbp",
        "colab": {
          "base_uri": "https://localhost:8080/",
          "height": 153
        }
      },
      "source": [
        "# Imbalance  Data\n",
        "lr_accuracy1 = accuracy_score(y_true=y_test, y_pred=y_pred1)\n",
        "print(\"Data Imbalance result \")\n",
        "print(\"Accuracy using Logistic Regression : \", lr_accuracy1)\n",
        "cm = confusion_matrix(y_test.values,y_pred1)\n",
        "print(\"Confusion Matrix:\")\n",
        "print(cm)\n",
        "TP =cm[0][0]\n",
        "TN =cm[1][1]\n",
        "FN = cm[1][0]\n",
        "FP = cm[0][1] \n",
        "\n",
        "precision=TP/(TP+FP)\n",
        "recall= TP/(TP+FN)\n",
        "F1=(2*precision*recall)/(precision+recall)\n",
        "print(\"precision:\",precision)\n",
        "print(\"Recall:\",recall)\n",
        "print(\"F1_score:\",F1)"
      ],
      "execution_count": 159,
      "outputs": [
        {
          "output_type": "stream",
          "text": [
            "Data Imbalance result \n",
            "Accuracy using Logistic Regression :  0.9875\n",
            "Confusion Matrix:\n",
            "[[ 711   16]\n",
            " [   9 1264]]\n",
            "precision: 0.9779917469050894\n",
            "Recall: 0.9875\n",
            "F1_score: 0.9827228749136144\n"
          ],
          "name": "stdout"
        }
      ]
    },
    {
      "cell_type": "code",
      "metadata": {
        "id": "mbVrINDvs4bZ",
        "colab_type": "code",
        "outputId": "9645c0a6-efd7-40ab-93c0-4f6ef6049dc1",
        "colab": {
          "base_uri": "https://localhost:8080/",
          "height": 153
        }
      },
      "source": [
        "# Balance data\n",
        "lr_accuracy = accuracy_score(y_true=y_test, y_pred=y_pred)\n",
        "print(\"Balance data\")\n",
        "print(\"Accuracy using Logistic Regression : \", lr_accuracy)\n",
        "cm = confusion_matrix(y_test.values,y_pred)\n",
        "print(\"Confusion Matrix:\")\n",
        "print(cm)\n",
        "TP =cm[0][0]\n",
        "TN =cm[1][1]\n",
        "FN = cm[1][0]\n",
        "FP = cm[0][1] \n",
        "\n",
        "precision=TP/(TP+FP)\n",
        "recall= TP/(TP+FN)\n",
        "F1=(2*precision*recall)/(precision+recall)\n",
        "print(\"precision:\",precision)\n",
        "print(\"Recall:\",recall)\n",
        "print(\"F1_score:\",F1)"
      ],
      "execution_count": 160,
      "outputs": [
        {
          "output_type": "stream",
          "text": [
            "Balance data\n",
            "Accuracy using Logistic Regression :  0.9875\n",
            "Confusion Matrix:\n",
            "[[ 720    7]\n",
            " [  18 1255]]\n",
            "precision: 0.9903713892709766\n",
            "Recall: 0.975609756097561\n",
            "F1_score: 0.9829351535836178\n"
          ],
          "name": "stdout"
        }
      ]
    },
    {
      "cell_type": "code",
      "metadata": {
        "id": "QMEueXkl_TWS",
        "colab_type": "code",
        "colab": {}
      },
      "source": [
        "def plot_confusion_matrix(cm,lables):\n",
        "    fig, ax = plt.subplots(figsize=(12,8)) # for plotting confusion matrix as image\n",
        "    im = ax.imshow(cm, interpolation='nearest', cmap=plt.cm.Blues)\n",
        "    ax.figure.colorbar(im, ax=ax)\n",
        "    ax.set(xticks=np.arange(cm.shape[1]),\n",
        "    yticks=np.arange(cm.shape[0]),\n",
        "    xticklabels=lables, yticklabels=lables,\n",
        "    ylabel='True label',\n",
        "    xlabel='Predicted label')\n",
        "    plt.xticks(rotation = 90)\n",
        "    thresh = cm.max() / 2.\n",
        "    for i in range(cm.shape[0]):\n",
        "        for j in range(cm.shape[1]):\n",
        "            ax.text(j, i, int(cm[i, j]),ha=\"center\", va=\"center\",color=\"white\" if cm[i, j] > thresh else \"black\")\n",
        "    fig.tight_layout()"
      ],
      "execution_count": 0,
      "outputs": []
    },
    {
      "cell_type": "code",
      "metadata": {
        "id": "bZYn8TE3_Vvz",
        "colab_type": "code",
        "outputId": "a9203497-b9cf-4020-abb4-734a4244ccd4",
        "colab": {
          "base_uri": "https://localhost:8080/",
          "height": 585
        }
      },
      "source": [
        "plot_confusion_matrix(cm, np.unique(y_pred))"
      ],
      "execution_count": 162,
      "outputs": [
        {
          "output_type": "display_data",
          "data": {
            "image/png": "[encoded data removed]",
            "text/plain": [
              "<Figure size 864x576 with 2 Axes>"
            ]
          },
          "metadata": {
            "tags": []
          }
        }
      ]
    },
    {
      "cell_type": "code",
      "metadata": {
        "id": "hV3XZ0Fr0udz",
        "colab_type": "code",
        "colab": {}
      },
      "source": [
        "#function to get best random search attributes\n",
        "def get_best_randomsearch_results(model):\n",
        "    print(\"Best estimator : \", model.best_estimator_)\n",
        "    print(\"Best set of parameters : \", model.best_params_)\n",
        "    print(\"Best score : \", model.best_score_)"
      ],
      "execution_count": 0,
      "outputs": []
    },
    {
      "cell_type": "code",
      "metadata": {
        "id": "ddtfDzXZs4fa",
        "colab_type": "code",
        "outputId": "64e4ff64-9692-440d-a787-9c651ff6a1fa",
        "colab": {
          "base_uri": "https://localhost:8080/",
          "height": 136
        }
      },
      "source": [
        "# getting best random search attributes\n",
        "get_best_randomsearch_results(lr_classifier_rs)"
      ],
      "execution_count": 164,
      "outputs": [
        {
          "output_type": "stream",
          "text": [
            "Best estimator :  LogisticRegression(C=60, class_weight=None, dual=False, fit_intercept=True,\n",
            "                   intercept_scaling=1, l1_ratio=None, max_iter=100,\n",
            "                   multi_class='auto', n_jobs=None, penalty='l2',\n",
            "                   random_state=None, solver='lbfgs', tol=0.0001, verbose=0,\n",
            "                   warm_start=False)\n",
            "Best set of parameters :  {'penalty': 'l2', 'C': 60}\n",
            "Best score :  0.9917763176809504\n"
          ],
          "name": "stdout"
        }
      ]
    },
    {
      "cell_type": "markdown",
      "metadata": {
        "id": "fVFk0-rx2RIR",
        "colab_type": "text"
      },
      "source": [
        "* 5.3  **Decision tree model** with Hyperparameter tuning and cross validation"
      ]
    },
    {
      "cell_type": "code",
      "metadata": {
        "id": "JvEXlV99s4l5",
        "colab_type": "code",
        "colab": {}
      },
      "source": [
        "from sklearn.tree import DecisionTreeClassifier\n",
        "\n",
        "parameters = {'max_depth':np.arange(2,10,2)}\n",
        "dt_classifier = DecisionTreeClassifier()\n",
        "dt_classifier_rs = RandomizedSearchCV(dt_classifier,param_distributions=parameters,random_state = 42)\n",
        "dt_classifier_rs.fit(X_train_res, y_train_res)\n",
        "\n",
        "# Data Imbalance\n",
        "dt_classifier_rs1 = RandomizedSearchCV(dt_classifier,param_distributions=parameters,random_state = 42)\n",
        "dt_classifier_rs1.fit(X_train, y_train)\n",
        "\n",
        "y_pred = dt_classifier_rs.predict(X_test)\n",
        "# Data Imbalance prediction\n",
        "y_pred1 = dt_classifier_rs1.predict(X_test)"
      ],
      "execution_count": 0,
      "outputs": []
    },
    {
      "cell_type": "code",
      "metadata": {
        "id": "oz98Scypwp3u",
        "colab_type": "code",
        "outputId": "de53c58b-06be-4224-97c1-e1f276ad15ce",
        "colab": {
          "base_uri": "https://localhost:8080/",
          "height": 153
        }
      },
      "source": [
        "# Data Imbalance \n",
        "dt_accuracy1 = accuracy_score(y_true=y_test, y_pred=y_pred1)\n",
        "print(\"Data Imbalance result \")\n",
        "print(\"Accuracy using Decision tree : \", dt_accuracy1)\n",
        "cm = confusion_matrix(y_test.values,y_pred1)\n",
        "print(\"Confusion Matrix:\")\n",
        "print(cm)\n",
        "TP =cm[0][0]\n",
        "TN =cm[1][1]\n",
        "FN = cm[1][0]\n",
        "FP = cm[0][1] \n",
        "\n",
        "precision=TP/(TP+FP)\n",
        "recall= TP/(TP+FN)\n",
        "F1=(2*precision*recall)/(precision+recall)\n",
        "print(\"precision:\",precision)\n",
        "print(\"Recall:\",recall)\n",
        "print(\"F1_score:\",F1)"
      ],
      "execution_count": 166,
      "outputs": [
        {
          "output_type": "stream",
          "text": [
            "Data Imbalance result \n",
            "Accuracy using Decision tree :  0.9995\n",
            "Confusion Matrix:\n",
            "[[ 727    0]\n",
            " [   1 1272]]\n",
            "precision: 1.0\n",
            "Recall: 0.9986263736263736\n",
            "F1_score: 0.9993127147766323\n"
          ],
          "name": "stdout"
        }
      ]
    },
    {
      "cell_type": "code",
      "metadata": {
        "id": "i5clw1F9s4py",
        "colab_type": "code",
        "outputId": "112885bb-edd1-47f2-b696-8ffa97fc12c3",
        "colab": {
          "base_uri": "https://localhost:8080/",
          "height": 153
        }
      },
      "source": [
        "# Balance data\n",
        "dt_accuracy = accuracy_score(y_true=y_test, y_pred=y_pred)\n",
        "print(\"Balance Data\")\n",
        "print(\"Accuracy using Decision tree : \", dt_accuracy)\n",
        "cm = confusion_matrix(y_test.values,y_pred)\n",
        "print(\"Confusion Matrix:\")\n",
        "print(cm)\n",
        "TP =cm[0][0]\n",
        "TN =cm[1][1]\n",
        "FN = cm[1][0]\n",
        "FP = cm[0][1] \n",
        "\n",
        "precision=TP/(TP+FP)\n",
        "recall= TP/(TP+FN)\n",
        "F1=(2*precision*recall)/(precision+recall)\n",
        "print(\"precision:\",precision)\n",
        "print(\"Recall:\",recall)\n",
        "print(\"F1_score:\",F1)"
      ],
      "execution_count": 167,
      "outputs": [
        {
          "output_type": "stream",
          "text": [
            "Balance Data\n",
            "Accuracy using Decision tree :  0.9995\n",
            "Confusion Matrix:\n",
            "[[ 727    0]\n",
            " [   1 1272]]\n",
            "precision: 1.0\n",
            "Recall: 0.9986263736263736\n",
            "F1_score: 0.9993127147766323\n"
          ],
          "name": "stdout"
        }
      ]
    },
    {
      "cell_type": "code",
      "metadata": {
        "id": "s6f_cDPc_lap",
        "colab_type": "code",
        "outputId": "4a42900f-5b68-45d2-d7c4-bb6a43c70806",
        "colab": {
          "base_uri": "https://localhost:8080/",
          "height": 585
        }
      },
      "source": [
        "plot_confusion_matrix(cm, np.unique(y_pred))"
      ],
      "execution_count": 168,
      "outputs": [
        {
          "output_type": "display_data",
          "data": {
            "image/png": "[encoded data removed]",
            "text/plain": [
              "<Figure size 864x576 with 2 Axes>"
            ]
          },
          "metadata": {
            "tags": []
          }
        }
      ]
    },
    {
      "cell_type": "code",
      "metadata": {
        "id": "5968NcD_OLEV",
        "colab_type": "code",
        "outputId": "72592142-55ab-4aed-e47d-53fe3a045978",
        "colab": {
          "base_uri": "https://localhost:8080/",
          "height": 153
        }
      },
      "source": [
        "# getting best random search attributes\n",
        "get_best_randomsearch_results(dt_classifier_rs)"
      ],
      "execution_count": 169,
      "outputs": [
        {
          "output_type": "stream",
          "text": [
            "Best estimator :  DecisionTreeClassifier(ccp_alpha=0.0, class_weight=None, criterion='gini',\n",
            "                       max_depth=2, max_features=None, max_leaf_nodes=None,\n",
            "                       min_impurity_decrease=0.0, min_impurity_split=None,\n",
            "                       min_samples_leaf=1, min_samples_split=2,\n",
            "                       min_weight_fraction_leaf=0.0, presort='deprecated',\n",
            "                       random_state=None, splitter='best')\n",
            "Best set of parameters :  {'max_depth': 2}\n",
            "Best score :  0.9998042094958395\n"
          ],
          "name": "stdout"
        }
      ]
    },
    {
      "cell_type": "markdown",
      "metadata": {
        "id": "YMs2Uh780aF0",
        "colab_type": "text"
      },
      "source": [
        "* 5.4 **Linear SVM model** with Hyperparameter tuning and cross validation"
      ]
    },
    {
      "cell_type": "code",
      "metadata": {
        "id": "l-ooaOUz0Yuk",
        "colab_type": "code",
        "colab": {}
      },
      "source": [
        "from sklearn.svm import LinearSVC"
      ],
      "execution_count": 0,
      "outputs": []
    },
    {
      "cell_type": "code",
      "metadata": {
        "id": "Pa9RA3Q70jtZ",
        "colab_type": "code",
        "colab": {}
      },
      "source": [
        "parameters = {'C':np.arange(1,12,2)}\n",
        "lr_svm = LinearSVC(tol=0.00005)\n",
        "lr_svm_rs = RandomizedSearchCV(lr_svm, param_distributions=parameters,random_state = 42)\n",
        "lr_svm_rs.fit(X_train_res, y_train_res)\n",
        "\n",
        "# Data Imbalance\n",
        "lr_svm_rs1 = RandomizedSearchCV(lr_svm, param_distributions=parameters,random_state = 42)\n",
        "lr_svm_rs1.fit(X_train, y_train)\n",
        "\n",
        "y_pred = lr_svm_rs.predict(X_test)\n",
        "# Data Imbalance prediction\n",
        "y_pred1 = lr_svm_rs1.predict(X_test)"
      ],
      "execution_count": 0,
      "outputs": []
    },
    {
      "cell_type": "code",
      "metadata": {
        "id": "NYoQwSju2VDd",
        "colab_type": "code",
        "outputId": "882784dd-00ed-42c8-c6a6-7f1fc65613e9",
        "colab": {
          "base_uri": "https://localhost:8080/",
          "height": 153
        }
      },
      "source": [
        "# Data Imbalance\n",
        "lr_svm_accuracy1 = accuracy_score(y_true=y_test, y_pred=y_pred1)\n",
        "print(\"# Data Imbalance\")\n",
        "print(\"Accuracy using linear SVM : \",lr_svm_accuracy1)\n",
        "cm = confusion_matrix(y_test.values,y_pred1)\n",
        "print(\"Confusion Matrix:\")\n",
        "print(cm)\n",
        "TP =cm[0][0]\n",
        "TN =cm[1][1]\n",
        "FN = cm[1][0]\n",
        "FP = cm[0][1] \n",
        "\n",
        "precision=TP/(TP+FP)\n",
        "recall= TP/(TP+FN)\n",
        "F1=(2*precision*recall)/(precision+recall)\n",
        "print(\"precision:\",precision)\n",
        "print(\"Recall:\",recall)\n",
        "print(\"F1_score:\",F1)"
      ],
      "execution_count": 172,
      "outputs": [
        {
          "output_type": "stream",
          "text": [
            "# Data Imbalance\n",
            "Accuracy using linear SVM :  0.9865\n",
            "Confusion Matrix:\n",
            "[[ 708   19]\n",
            " [   8 1265]]\n",
            "precision: 0.9738651994497937\n",
            "Recall: 0.9888268156424581\n",
            "F1_score: 0.9812889812889813\n"
          ],
          "name": "stdout"
        }
      ]
    },
    {
      "cell_type": "code",
      "metadata": {
        "id": "rfs8b61N0jzo",
        "colab_type": "code",
        "outputId": "1bcec902-e8f1-4438-d4b8-c757f8c33e0b",
        "colab": {
          "base_uri": "https://localhost:8080/",
          "height": 153
        }
      },
      "source": [
        "# Balance data\n",
        "lr_svm_accuracy = accuracy_score(y_true=y_test, y_pred=y_pred)\n",
        "print(\"Balance Data\")\n",
        "print(\"Accuracy using linear SVM : \",lr_svm_accuracy)\n",
        "cm = confusion_matrix(y_test.values,y_pred)\n",
        "print(\"Confusion Matrix:\")\n",
        "print(cm)\n",
        "TP =cm[0][0]\n",
        "TN =cm[1][1]\n",
        "FN = cm[1][0]\n",
        "FP = cm[0][1] \n",
        "\n",
        "precision=TP/(TP+FP)\n",
        "recall= TP/(TP+FN)\n",
        "F1=(2*precision*recall)/(precision+recall)\n",
        "print(\"precision:\",precision)\n",
        "print(\"Recall:\",recall)\n",
        "print(\"F1_score:\",F1)"
      ],
      "execution_count": 173,
      "outputs": [
        {
          "output_type": "stream",
          "text": [
            "Balance Data\n",
            "Accuracy using linear SVM :  0.974\n",
            "Confusion Matrix:\n",
            "[[ 722    5]\n",
            " [  47 1226]]\n",
            "precision: 0.9931224209078404\n",
            "Recall: 0.9388816644993498\n",
            "F1_score: 0.9652406417112299\n"
          ],
          "name": "stdout"
        }
      ]
    },
    {
      "cell_type": "code",
      "metadata": {
        "id": "atCs4A400j5o",
        "colab_type": "code",
        "outputId": "403b8f61-0e06-48c9-92e1-0aef1e8bacf9",
        "colab": {
          "base_uri": "https://localhost:8080/",
          "height": 585
        }
      },
      "source": [
        "plot_confusion_matrix(cm, np.unique(y_pred)) # plotting confusion matrix"
      ],
      "execution_count": 174,
      "outputs": [
        {
          "output_type": "display_data",
          "data": {
            "image/png": "[encoded data removed]",
            "text/plain": [
              "<Figure size 864x576 with 2 Axes>"
            ]
          },
          "metadata": {
            "tags": []
          }
        }
      ]
    },
    {
      "cell_type": "code",
      "metadata": {
        "id": "gzu992cM0j9X",
        "colab_type": "code",
        "colab": {
          "base_uri": "https://localhost:8080/",
          "height": 119
        },
        "outputId": "5fa7230d-5700-4f8e-87e0-ea98403cdc4a"
      },
      "source": [
        "# getting best random search attributes\n",
        "get_best_randomsearch_results(lr_svm_rs)"
      ],
      "execution_count": 175,
      "outputs": [
        {
          "output_type": "stream",
          "text": [
            "Best estimator :  LinearSVC(C=1, class_weight=None, dual=True, fit_intercept=True,\n",
            "          intercept_scaling=1, loss='squared_hinge', max_iter=1000,\n",
            "          multi_class='ovr', penalty='l2', random_state=None, tol=5e-05,\n",
            "          verbose=0)\n",
            "Best set of parameters :  {'C': 1}\n",
            "Best score :  0.9781679685009322\n"
          ],
          "name": "stdout"
        }
      ]
    }
  ]
}